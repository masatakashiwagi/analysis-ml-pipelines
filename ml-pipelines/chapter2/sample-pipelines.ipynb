{
 "cells": [
  {
   "cell_type": "markdown",
   "id": "dfd0d3b6-cc81-4076-9491-16df884cb5d4",
   "metadata": {},
   "source": [
    "## Apache Beam Pipelines\n",
    "- サンプルパイプラインを実行して，Beamの使い方を確認する"
   ]
  },
  {
   "cell_type": "code",
   "execution_count": null,
   "id": "452a265f-6a98-4a41-93db-4e59088c1715",
   "metadata": {
    "tags": []
   },
   "outputs": [],
   "source": [
    "# !pip install google-cloud-core==1.6.0 apache_beam[gcp]==2.28.0"
   ]
  },
  {
   "cell_type": "code",
   "execution_count": 1,
   "id": "6f4ff793-5d98-4e6e-90e6-9e11c7a4b0b1",
   "metadata": {},
   "outputs": [],
   "source": [
    "import re\n",
    "\n",
    "import apache_beam as beam\n",
    "from apache_beam.io import ReadFromText, WriteToText\n",
    "from apache_beam.options.pipeline_options import PipelineOptions, SetupOptions"
   ]
  },
  {
   "cell_type": "code",
   "execution_count": 2,
   "id": "473523a5-63ba-40a9-ab05-8f4505f962b6",
   "metadata": {},
   "outputs": [],
   "source": [
    "input_file = 'gs://dataflow-samples/shakespeare/kinglear.txt'\n",
    "output_file = 'chapter2/output/output.txt'"
   ]
  },
  {
   "cell_type": "code",
   "execution_count": 3,
   "id": "75f47e19-64d2-46eb-b5d6-94b0e188a185",
   "metadata": {},
   "outputs": [
    {
     "name": "stderr",
     "output_type": "stream",
     "text": [
      "WARNING:apache_beam.internal.gcp.auth:Unable to find default credentials to use: The Application Default Credentials are not available. They are available if running in Google Compute Engine. Otherwise, the environment variable GOOGLE_APPLICATION_CREDENTIALS must be defined pointing to a file defining the credentials. See https://developers.google.com/accounts/docs/application-default-credentials for more information.\n",
      "Connecting anonymously.\n",
      "WARNING:apache_beam.runners.interactive.interactive_environment:Dependencies required for Interactive Beam PCollection visualization are not available, please use: `pip install apache-beam[interactive]` to install necessary dependencies to enable all data visualization features.\n"
     ]
    },
    {
     "data": {
      "application/javascript": [
       "\n",
       "        if (typeof window.interactive_beam_jquery == 'undefined') {\n",
       "          var jqueryScript = document.createElement('script');\n",
       "          jqueryScript.src = 'https://code.jquery.com/jquery-3.4.1.slim.min.js';\n",
       "          jqueryScript.type = 'text/javascript';\n",
       "          jqueryScript.onload = function() {\n",
       "            var datatableScript = document.createElement('script');\n",
       "            datatableScript.src = 'https://cdn.datatables.net/1.10.20/js/jquery.dataTables.min.js';\n",
       "            datatableScript.type = 'text/javascript';\n",
       "            datatableScript.onload = function() {\n",
       "              window.interactive_beam_jquery = jQuery.noConflict(true);\n",
       "              window.interactive_beam_jquery(document).ready(function($){\n",
       "                \n",
       "              });\n",
       "            }\n",
       "            document.head.appendChild(datatableScript);\n",
       "          };\n",
       "          document.head.appendChild(jqueryScript);\n",
       "        } else {\n",
       "          window.interactive_beam_jquery(document).ready(function($){\n",
       "            \n",
       "          });\n",
       "        }"
      ]
     },
     "metadata": {},
     "output_type": "display_data"
    },
    {
     "name": "stderr",
     "output_type": "stream",
     "text": [
      "WARNING:apache_beam.options.pipeline_options:Discarding unparseable args: ['-f', '/root/.local/share/jupyter/runtime/kernel-aa1fe5cd-3c6e-40dd-b89b-f346e0380c2e.json']\n"
     ]
    }
   ],
   "source": [
    "# PipelineOptionsのインスタンス化\n",
    "pipeline_options = PipelineOptions()\n",
    "\n",
    "with beam.Pipeline(options=pipeline_options) as p:\n",
    "    # テキストファイルをPCollectionに読み込み\n",
    "    lines = p | ReadFromText(input_file)\n",
    "    \n",
    "    # 各単語の頻度を数える\n",
    "    counts = (\n",
    "        lines\n",
    "        | 'Split' >> (beam.FlatMap(lambda x: re.findall(r'[A-Za-z\\']+', x)))\n",
    "        | 'PairWithOne' >> beam.Map(lambda x: (x, 1))\n",
    "        | 'GroupAndSum' >> beam.CombinePerKey(sum)\n",
    "    )\n",
    "    \n",
    "    # 頻度を文字列のPCollectionにフォーマット変換\n",
    "    def format_result(word_count):\n",
    "        (word, count) = word_count\n",
    "        return \"{}: {}\".format(word, count)\n",
    "    \n",
    "    output = counts | 'Format' >> beam.Map(format_result)\n",
    "    output | WriteToText(output_file)"
   ]
  },
  {
   "cell_type": "code",
   "execution_count": null,
   "id": "b318973d-d04d-4aed-97d2-7c5deba45333",
   "metadata": {},
   "outputs": [],
   "source": []
  }
 ],
 "metadata": {
  "kernelspec": {
   "display_name": "Python 3 (ipykernel)",
   "language": "python",
   "name": "python3"
  },
  "language_info": {
   "codemirror_mode": {
    "name": "ipython",
    "version": 3
   },
   "file_extension": ".py",
   "mimetype": "text/x-python",
   "name": "python",
   "nbconvert_exporter": "python",
   "pygments_lexer": "ipython3",
   "version": "3.8.12"
  }
 },
 "nbformat": 4,
 "nbformat_minor": 5
}
